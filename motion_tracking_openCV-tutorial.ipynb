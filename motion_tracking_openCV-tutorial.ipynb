{
 "cells": [
  {
   "cell_type": "markdown",
   "metadata": {},
   "source": [
    "## openCV python tutorial"
   ]
  },
  {
   "cell_type": "markdown",
   "metadata": {},
   "source": [
    "This tutorial has been adapted from the series of youtube videos found on the channel ProgrammingKnowledge found at\n",
    "\n",
    "\n",
    "www.youtube.com/user/ProgrammingKnowledge"
   ]
  },
  {
   "cell_type": "markdown",
   "metadata": {},
   "source": [
    "###### Importing numpy and matplotlib; checking numpy version"
   ]
  },
  {
   "cell_type": "code",
   "execution_count": null,
   "metadata": {},
   "outputs": [],
   "source": [
    "import numpy as np\n",
    "print(\"numpy version =\",np.__version__)\n",
    "import matplotlib.pyplot as plt\n",
    "\n",
    "%matplotlib inline"
   ]
  },
  {
   "cell_type": "markdown",
   "metadata": {},
   "source": [
    "##### Importing openCV and checking version"
   ]
  },
  {
   "cell_type": "code",
   "execution_count": null,
   "metadata": {},
   "outputs": [],
   "source": [
    "import cv2\n",
    "print(\"openCV version =\",cv2.__version__)"
   ]
  },
  {
   "cell_type": "markdown",
   "metadata": {},
   "source": [
    "#### Begin with image from github.com/opencv/opencv"
   ]
  },
  {
   "cell_type": "code",
   "execution_count": null,
   "metadata": {},
   "outputs": [],
   "source": [
    "#read leng.jpg from master file\n",
    "#second listed variable is the flag\n",
    "#1  = cv2.IMREAD_COLOR;             which loads color image\n",
    "#0  = cv2.IMREAD_GRAYSCALE;     which loads image in grayscale mode\n",
    "#-1 = cv2.IMREAD_UNCHANGED;  which loads image as such including alpha chanel\n",
    "img = cv2.imread('lena.jpg',0)\n",
    "\n",
    "#printing image matrix\n",
    "print(img)"
   ]
  },
  {
   "cell_type": "markdown",
   "metadata": {},
   "source": [
    "#### showing image"
   ]
  },
  {
   "cell_type": "code",
   "execution_count": null,
   "metadata": {},
   "outputs": [],
   "source": [
    "#'image' gives the image\n",
    "#img is the variable provided above\n",
    "cv2.imshow('image',img)\n",
    "\n",
    "#cv2.waitKey(X) is how long you wish to show the image for; X in ms (1000=1sec)\n",
    "cv2.waitKey(5000)\n",
    "\n",
    "#destroy the window after viewing image\n",
    "#alternate method is cv2.destroywindow which will destroy a particular window\n",
    "cv2.destroyAllWindows()"
   ]
  },
  {
   "cell_type": "markdown",
   "metadata": {},
   "source": [
    "##### An alternate way to do this is to allow the user to destroy the window"
   ]
  },
  {
   "cell_type": "code",
   "execution_count": null,
   "metadata": {},
   "outputs": [],
   "source": [
    "#show image\n",
    "cv2.imshow('image',img)\n",
    "\n",
    "#provide a waitKey=0\n",
    "cv2.waitKey(0)\n",
    "\n",
    "#destroy all windows upon user closing\n",
    "cv2.destroyAllWindows()"
   ]
  },
  {
   "cell_type": "markdown",
   "metadata": {},
   "source": [
    "##### Now to demo the different image modes"
   ]
  },
  {
   "cell_type": "code",
   "execution_count": null,
   "metadata": {},
   "outputs": [],
   "source": [
    "#declare the colored image read as imgC\n",
    "imgC = cv2.imread('lena.jpg',1)\n",
    "#the grayscale image will be left as img\n",
    "#declare the unchanged image as imgU\n",
    "imgU = cv2.imread('lena.jpg',-1)\n",
    "\n",
    "#opening all images at once with the colored image staying for 2 seconds, grayscale for 2 seconds, then unchanged for 2 seconds\n",
    "#colored image, 2 second waitKey\n",
    "cv2.imshow('image',imgC)\n",
    "cv2.waitKey(2000)\n",
    "#grayscale image, 2 second waitKey\n",
    "cv2.imshow('image',img)\n",
    "cv2.waitKey(2000)\n",
    "#unchanged image, 2 second waitKey\n",
    "cv2.imshow('image',imgU)\n",
    "cv2.waitKey(2000)\n",
    "\n",
    "#destroy all windows upon user closing\n",
    "cv2.destroyAllWindows()"
   ]
  },
  {
   "cell_type": "markdown",
   "metadata": {},
   "source": [
    "##### Demonstrating how to write a file with openCV"
   ]
  },
  {
   "cell_type": "code",
   "execution_count": null,
   "metadata": {},
   "outputs": [],
   "source": [
    "#use cv2.imwrite('filename.extension', variable that you declared[img in this case])\n",
    "cv2.imwrite('lena_grayscale_copy.png',img)\n",
    "\n",
    "#declare variable for new photo\n",
    "imgNEW = cv2.imread('lena_grayscale_copy.png',-1)\n",
    "\n",
    "#show the image with a half second waitKey and destroy the window\n",
    "cv2.imshow('image',imgNEW)\n",
    "cv2.waitKey(500)\n",
    "cv2.destroyAllWindows()"
   ]
  },
  {
   "cell_type": "markdown",
   "metadata": {},
   "source": [
    "##### Declaring waitKey(0) as k so that when ESC pressed, window is destroyed"
   ]
  },
  {
   "cell_type": "code",
   "execution_count": null,
   "metadata": {},
   "outputs": [],
   "source": [
    "#show image to test loop\n",
    "img = cv2.imread('lena.jpg',0)\n",
    "cv2.imshow('image',img)\n",
    "\n",
    "#declare k (documentation says to declare the mask added to end of cv2.waitKey )\n",
    "k = cv2.waitKey(0) & 0xFF\n",
    "\n",
    "#create if/elif loop; 27 is the value for the key ESC\n",
    "#elif statement says if 's' is pressed, the shown image will be saved as lena_grayscale_copy.png, unchanged, then all windows destroyed\n",
    "if k==27:\n",
    "    cv2.destroyAllWindows() \n",
    "elif k==ord('s'):\n",
    "    cv2.imwrite('lena_grayscale_copy-ktest.png',-1)\n",
    "    cv2.destroyAllWindows()"
   ]
  },
  {
   "cell_type": "markdown",
   "metadata": {},
   "source": [
    "##### Now on to video files"
   ]
  },
  {
   "cell_type": "markdown",
   "metadata": {},
   "source": [
    "How to capture live video from from webcam."
   ]
  },
  {
   "cell_type": "code",
   "execution_count": null,
   "metadata": {},
   "outputs": [],
   "source": [
    "#declare variable for capture\n",
    "#cv2.VideoCapture('filename.extension') for opening specific file located within project folder\n",
    "#cv2.VideoCapture(index); most devices, webcam is 0 or -1; second camera is 1,2...or so on\n",
    "cap = cv2.VideoCapture(0)\n",
    "\n",
    "#create a while loop to capture frames\n",
    "while(True):\n",
    "    #return true if frame available and read it\n",
    "    ret,frame = cap.read()\n",
    "    \n",
    "    #show frame in window named in quotes\n",
    "    cv2.imshow('frame',frame)\n",
    "    \n",
    "    #if the q key is pressed, the following will occur\n",
    "    if cv2.waitKey(1) & 0xFF == ord('q'):\n",
    "        \n",
    "        #break from loop\n",
    "        break\n",
    "\n",
    "#release the video        \n",
    "cap.release()\n",
    "#destroy all windows\n",
    "cv2.destroyAllWindows()"
   ]
  },
  {
   "cell_type": "markdown",
   "metadata": {},
   "source": [
    "To change the output of this video we can do the following:"
   ]
  },
  {
   "cell_type": "code",
   "execution_count": null,
   "metadata": {},
   "outputs": [],
   "source": [
    "cap = cv2.VideoCapture(0)\n",
    "\n",
    "while(True):\n",
    "\n",
    "    ret,frame = cap.read()\n",
    "    \n",
    "    #declare variable 'gray' for converting video to grayscale using cv2.cvtColor\n",
    "    #cv2.cvtColor(source,conversion)\n",
    "    #conversions:COLOR_XXX2XXX\n",
    "    #BGR2GRAY converts default BGR to grayscale\n",
    "    #BGR2HSV converts default to HSV; which is used for better image tracking\n",
    "    #For HSV, Hue range is [0,179], Saturation range is [0,255] and Value range is [0,255]\n",
    "    gray = cv2.cvtColor(frame, cv2.COLOR_BGR2GRAY)\n",
    "    cv2.imshow('frame',gray)\n",
    "    \n",
    "    #if the q key is pressed, the following will occur\n",
    "    if cv2.waitKey(1) & 0xFF == ord('q'):\n",
    "        \n",
    "        #break from loop\n",
    "        break\n",
    "\n",
    "#release the video        \n",
    "cap.release()\n",
    "#destroy all windows\n",
    "cv2.destroyAllWindows()"
   ]
  },
  {
   "cell_type": "markdown",
   "metadata": {},
   "source": [
    "##### Displaying video from file"
   ]
  },
  {
   "cell_type": "code",
   "execution_count": null,
   "metadata": {},
   "outputs": [],
   "source": [
    "capFILE = cv2.VideoCapture('Megamnid.avi')\n",
    "\n",
    "#we can check if the filename given in the cv2.VideoCapture command is correct by changine the following argument from \n",
    "#while(True): to while(declaredvariable.isOpened()):\n",
    "#if the index or filepath is incorrect, this will result in a False for the while loop instead of True\n",
    "#you will know if the filepath is incorrect because nothing will happen when this code is ran due to the False flag\n",
    "\n",
    "#another way to show the False flag is to print what is happening; to demonstrate I will place an incorrect filename\n",
    "print(capFILE.isOpened())\n",
    "\n",
    "while(capFILE.isOpened()):\n",
    "\n",
    "    ret,frame = capFILE.read()\n",
    "    \n",
    "    cv2.imshow('frame',capFILE)\n",
    "    \n",
    "    #if the q key is pressed, the following will occur\n",
    "    if cv2.waitKey(1) & 0xFF == ord('q'):\n",
    "        \n",
    "        #break from loop\n",
    "        break\n",
    "\n",
    "#release the video        \n",
    "capFILE.release()\n",
    "#destroy all windows\n",
    "cv2.destroyAllWindows()"
   ]
  },
  {
   "cell_type": "markdown",
   "metadata": {},
   "source": [
    "##### Notice the False statement above and lack of window showing"
   ]
  },
  {
   "cell_type": "markdown",
   "metadata": {},
   "source": [
    "Below is a second demonstration of the False flag, but showing this using an incorrect index"
   ]
  },
  {
   "cell_type": "code",
   "execution_count": null,
   "metadata": {},
   "outputs": [],
   "source": [
    "capINDEX = cv2.VideoCapture('3')\n",
    "\n",
    "#we can check if the filename given in the cv2.VideoCapture command is correct by changine the following argument from \n",
    "#while(True): to while(declaredvariable.isOpened()):\n",
    "#if the index or filepath is incorrect, this will result in a False for the while loop instead of True\n",
    "#you will know if the filepath is incorrect because nothing will happen when this code is ran due to the False flag\n",
    "\n",
    "#another way to show the False flag is to print what is happening; to demonstrate I will place an incorrect filename\n",
    "print(capINDEX.isOpened())\n",
    "\n",
    "while(capINDEX.isOpened()):\n",
    "\n",
    "    ret,frame = capINDEX.read()\n",
    "    \n",
    "    cv2.imshow('frame',capINDEX)\n",
    "    \n",
    "    #if the q key is pressed, the following will occur\n",
    "    if cv2.waitKey(1) & 0xFF == ord('q'):\n",
    "        \n",
    "        #break from loop\n",
    "        break\n",
    "\n",
    "#release the video        \n",
    "capINDEX.release()\n",
    "#destroy all windows\n",
    "cv2.destroyAllWindows()\n",
    "\n",
    "\n",
    "# An alternate command to open the file is using the XXX.Open() command as opposed to XXX.isOpened()"
   ]
  },
  {
   "cell_type": "markdown",
   "metadata": {},
   "source": [
    "##### Again, notice since this device uses the index 0 for the webcam, that a False flag is printed and no windows pop up"
   ]
  },
  {
   "cell_type": "markdown",
   "metadata": {},
   "source": [
    "Additional Properties"
   ]
  },
  {
   "cell_type": "code",
   "execution_count": null,
   "metadata": {},
   "outputs": [],
   "source": [
    "cap       = cv2.VideoCapture(0)\n",
    "\n",
    "#now we will create the video output class\n",
    "#first create the variable out for this class\n",
    "#cv2.VideoWriter('nameofoutputfile',fourCCcode,framerate,size*)\n",
    "#*the size (in this case) is given as a tuple(640,480)\n",
    "\n",
    "#fourCC code (second argument in out) list can be found at\n",
    "#www.fourcc.org/codecs.php (also listed in the below markdown cell)\n",
    "#this gives the video codex\n",
    "fourCC = cv2.VideoWriter_fourcc(*'XVID')\n",
    "# can also be declared as cv2.VideoWriter_fourcc('X','V','I','D')\n",
    "\n",
    "out        = cv2.VideoWriter('output.avi',fourCC,20.0,(640,480))\n",
    "\n",
    "print(cap.isOpened())\n",
    "while(cap.isOpened()):\n",
    "\n",
    "    ret,frame = cap.read()\n",
    "    \n",
    "    #if cap.isOpened() is true, the code will save the output\n",
    "    if ret == True:\n",
    "    \n",
    "        print(cap.get(cv2.CAP_PROP_FRAME_WIDTH))\n",
    "        print(cap.get(cv2.CAP_PROP_FRAME_HEIGHT))\n",
    "    \n",
    "        \n",
    "        out.write(frame)\n",
    "        \n",
    "        gray = cv2.cvtColor(frame,cv2.COLOR_BGR2GRAY)\n",
    "        cv2.imshow('frame',gray)\n",
    "    \n",
    "        #if the q key is pressed, the following will occur\n",
    "        if cv2.waitKey(1) & 0xFF == ord('q'):\n",
    "        \n",
    "            #break from loop\n",
    "            break\n",
    "            \n",
    "    #if cap.isOpened() is false, we will break\n",
    "    else:\n",
    "        break\n",
    "\n",
    "#release the video        \n",
    "cap.release()\n",
    "#release all instences\n",
    "out.release()\n",
    "#destroy all windows\n",
    "cv2.destroyAllWindows()"
   ]
  },
  {
   "cell_type": "markdown",
   "metadata": {},
   "source": [
    "Notice the printing of the height and width as well as the fileoutput (due to pressing q) of the file specified above (output.avi)"
   ]
  },
  {
   "cell_type": "markdown",
   "metadata": {},
   "source": [
    "##### List of all video capture properties can be found at \n",
    "https://docs.opencv.org/3.4/d4/d15/group__videoio__flags__base.html\n",
    "##### -or-\n",
    "https://docs.opencv.org/2.4/modules/highgui/doc/reading_and_writing_images_and_video.html\n",
    "\n",
    "##### FourCC documentation\n",
    "www.fourcc.org/codecs.php"
   ]
  },
  {
   "cell_type": "code",
   "execution_count": null,
   "metadata": {},
   "outputs": [],
   "source": []
  }
 ],
 "metadata": {
  "kernelspec": {
   "display_name": "Python 3",
   "language": "python",
   "name": "python3"
  },
  "language_info": {
   "codemirror_mode": {
    "name": "ipython",
    "version": 3
   },
   "file_extension": ".py",
   "mimetype": "text/x-python",
   "name": "python",
   "nbconvert_exporter": "python",
   "pygments_lexer": "ipython3",
   "version": "3.7.1"
  }
 },
 "nbformat": 4,
 "nbformat_minor": 2
}
